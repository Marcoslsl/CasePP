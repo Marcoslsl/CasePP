{
 "cells": [
  {
   "cell_type": "markdown",
   "metadata": {
    "id": "i-dY94-Wfkrd"
   },
   "source": [
    "# Case - Machine Learning Engineering"
   ]
  },
  {
   "cell_type": "markdown",
   "metadata": {
    "id": "5KcJ0bGUf6BY"
   },
   "source": [
    "\n",
    "**O Problema**\n",
    "\n",
    "O **Minhas Finanças** é um produto no PicPay para organizar e comparar os gastos financeiros dos nossos usuários. Desta forma, o time de MLOPS do PicPay tem o objetivo de disponibilizar uma base de dados tratada para ser analisada pelos Cientistas de dados.\n",
    "\n",
    "O **objetivo** desse exercício é realizar o tratamento de dados para analise das das transações que foram categorizadas.\n",
    "\n",
    "De forma objetiva, o seu output final deve ser uma tabela conforme a imagem abaixo.\n",
    "\n",
    "\n",
    "![DataFrame Esperado](resultado_esperado.png)\n",
    "\n",
    "\n",
    "**Importante!**\n",
    "  - Você deverá disponibilizar o código em um repositório no GitHub.\n",
    "  - Recomendamos o uso de Pandas ou PySpark para tratamento dos dados.\n",
    "\n",
    "**Ambiente de desenvolvimento**\n",
    "  - Recomendamos o uso do Google Colab ou do Jupyter Notebook Localmente.\n",
    "\n",
    "**Onde estão os dados?**\n",
    " - Dentro da pasta dataset existem dois arquivos `.csv` com os seguintes nomes: `bank_dim` e `transations`.\n",
    "  \n",
    "\n",
    "**Schema dos dados de entrada**\n",
    "\n",
    "- **`transactions`:**\n",
    "  - **transaction_id**: Chave de identificação da transação\n",
    "  - **user_id**: Chave de identificação do usuário no sistema.\n",
    "  - **transaction_name_raw**: Nome da transação em seu formato original\n",
    "  - **transaction_name_treated**: Nome da transação com tratamento aplicado\n",
    "  - **transaction_amount**: Valor da transação\n",
    "  - **bank_id**: Chave de Identificação do banco de origem.\n",
    "  - **year**: Ano da transação\n",
    "  - **month**: Mês da transação\n",
    "  - **day**: Dia da transação\n",
    "\n",
    "- **`bank_dim`**\n",
    "  - **bank_name**: Nome do banco.\n",
    "  - **bank_id**: Identificador do banco.\n"
   ]
  },
  {
   "cell_type": "code",
   "execution_count": 56,
   "metadata": {
    "ExecuteTime": {
     "end_time": "2023-07-28T13:23:25.070149Z",
     "start_time": "2023-07-28T13:23:25.060722Z"
    },
    "id": "6h8ANBIcNaid"
   },
   "outputs": [],
   "source": [
    "import pandas as pd\n",
    "import numpy as np"
   ]
  },
  {
   "cell_type": "code",
   "execution_count": 57,
   "metadata": {
    "ExecuteTime": {
     "end_time": "2023-07-28T13:23:25.246305Z",
     "start_time": "2023-07-28T13:23:25.224317Z"
    }
   },
   "outputs": [],
   "source": [
    "transactions = pd.read_csv(\"dataset/transactions.csv\")\n",
    "bank_dim = pd.read_csv(\"dataset/bank_dim.csv\")"
   ]
  },
  {
   "cell_type": "code",
   "execution_count": 58,
   "metadata": {
    "ExecuteTime": {
     "end_time": "2023-07-28T13:23:25.377440Z",
     "start_time": "2023-07-28T13:23:25.368536Z"
    },
    "cell_style": "split"
   },
   "outputs": [
    {
     "data": {
      "text/plain": [
       "False"
      ]
     },
     "execution_count": 58,
     "metadata": {},
     "output_type": "execute_result"
    }
   ],
   "source": [
    "transactions.isnull().any().any()"
   ]
  },
  {
   "cell_type": "code",
   "execution_count": 59,
   "metadata": {
    "ExecuteTime": {
     "end_time": "2023-07-28T13:23:25.536938Z",
     "start_time": "2023-07-28T13:23:25.518232Z"
    },
    "cell_style": "split"
   },
   "outputs": [
    {
     "data": {
      "text/plain": [
       "False"
      ]
     },
     "execution_count": 59,
     "metadata": {},
     "output_type": "execute_result"
    }
   ],
   "source": [
    "bank_dim.isnull().any().any()"
   ]
  },
  {
   "cell_type": "code",
   "execution_count": 60,
   "metadata": {
    "ExecuteTime": {
     "end_time": "2023-07-28T13:23:25.685873Z",
     "start_time": "2023-07-28T13:23:25.666917Z"
    }
   },
   "outputs": [],
   "source": [
    "transactions_bank = transactions.merge(bank_dim, on=\"bank_id\", how=\"left\")"
   ]
  },
  {
   "cell_type": "code",
   "execution_count": 61,
   "metadata": {
    "ExecuteTime": {
     "end_time": "2023-07-28T13:23:25.872959Z",
     "start_time": "2023-07-28T13:23:25.855600Z"
    }
   },
   "outputs": [
    {
     "data": {
      "text/plain": [
       "False"
      ]
     },
     "execution_count": 61,
     "metadata": {},
     "output_type": "execute_result"
    }
   ],
   "source": [
    "transactions_bank.isnull().any().any()"
   ]
  },
  {
   "cell_type": "markdown",
   "metadata": {},
   "source": [
    "TRATAR COLUNAS"
   ]
  },
  {
   "cell_type": "code",
   "execution_count": 62,
   "metadata": {
    "ExecuteTime": {
     "end_time": "2023-07-28T13:23:27.392138Z",
     "start_time": "2023-07-28T13:23:27.364506Z"
    }
   },
   "outputs": [],
   "source": [
    "transactions_bank['transaction_name_treated'] = transactions_bank['transaction_name_treated'].apply(lambda x: x.upper())\n",
    "transactions_bank['transaction_amount'] = transactions_bank['transaction_amount'].apply(lambda x: x.replace(\",\", \".\")).astype(\"float64\")\n",
    "\n",
    "types = {\n",
    "    \"transaction_id\": str,\n",
    "    \"user_id\": str,\n",
    "    \"year\": str,\n",
    "    \"month\": str,\n",
    "    \"day\": str,\n",
    "    \"bank_id\": str,\n",
    "}\n",
    "transactions_bank = transactions_bank.astype(types)"
   ]
  },
  {
   "cell_type": "markdown",
   "metadata": {},
   "source": [
    "CRIAR COLUNA YEAR-MONTH"
   ]
  },
  {
   "cell_type": "code",
   "execution_count": 63,
   "metadata": {
    "ExecuteTime": {
     "end_time": "2023-07-28T13:23:27.879238Z",
     "start_time": "2023-07-28T13:23:27.860751Z"
    }
   },
   "outputs": [],
   "source": [
    "transactions_bank['year_month'] = transactions_bank[\"year\"].astype(\"str\") + \"-\" + transactions_bank[\"month\"].astype(\"str\")"
   ]
  },
  {
   "cell_type": "markdown",
   "metadata": {},
   "source": [
    "# VALIDAR O QUE EU QUERIA"
   ]
  },
  {
   "cell_type": "code",
   "execution_count": 64,
   "metadata": {
    "ExecuteTime": {
     "end_time": "2023-07-28T13:23:29.400158Z",
     "start_time": "2023-07-28T13:23:29.391128Z"
    }
   },
   "outputs": [],
   "source": [
    "# colum para analisar\n",
    "column = \"AUTO POSTO\""
   ]
  },
  {
   "cell_type": "code",
   "execution_count": 65,
   "metadata": {
    "ExecuteTime": {
     "end_time": "2023-07-28T13:23:31.429301Z",
     "start_time": "2023-07-28T13:23:31.398106Z"
    }
   },
   "outputs": [
    {
     "data": {
      "text/html": [
       "<div>\n",
       "<style scoped>\n",
       "    .dataframe tbody tr th:only-of-type {\n",
       "        vertical-align: middle;\n",
       "    }\n",
       "\n",
       "    .dataframe tbody tr th {\n",
       "        vertical-align: top;\n",
       "    }\n",
       "\n",
       "    .dataframe thead th {\n",
       "        text-align: right;\n",
       "    }\n",
       "</style>\n",
       "<table border=\"1\" class=\"dataframe\">\n",
       "  <thead>\n",
       "    <tr style=\"text-align: right;\">\n",
       "      <th></th>\n",
       "      <th>transaction_id</th>\n",
       "      <th>user_id</th>\n",
       "      <th>transaction_name_raw</th>\n",
       "      <th>transaction_name_treated</th>\n",
       "      <th>transaction_amount</th>\n",
       "      <th>year</th>\n",
       "      <th>month</th>\n",
       "      <th>day</th>\n",
       "      <th>bank_id</th>\n",
       "      <th>bank_name</th>\n",
       "      <th>year_month</th>\n",
       "    </tr>\n",
       "  </thead>\n",
       "  <tbody>\n",
       "    <tr>\n",
       "      <th>109</th>\n",
       "      <td>995925136</td>\n",
       "      <td>1005</td>\n",
       "      <td>RSCSS-AUTO POSTO -07/10</td>\n",
       "      <td>AUTO POSTO</td>\n",
       "      <td>-100.0</td>\n",
       "      <td>2022</td>\n",
       "      <td>10</td>\n",
       "      <td>24</td>\n",
       "      <td>6001</td>\n",
       "      <td>Nubank</td>\n",
       "      <td>2022-10</td>\n",
       "    </tr>\n",
       "  </tbody>\n",
       "</table>\n",
       "</div>"
      ],
      "text/plain": [
       "    transaction_id user_id     transaction_name_raw transaction_name_treated  \\\n",
       "109      995925136    1005  RSCSS-AUTO POSTO -07/10               AUTO POSTO   \n",
       "\n",
       "     transaction_amount  year month day bank_id bank_name year_month  \n",
       "109              -100.0  2022    10  24    6001    Nubank    2022-10  "
      ]
     },
     "execution_count": 65,
     "metadata": {},
     "output_type": "execute_result"
    }
   ],
   "source": [
    "filtro1 = transactions_bank['user_id'] == \"1005\"\n",
    "filtro2 = transactions_bank['year'] == \"2022\"\n",
    "filtro3 = transactions_bank['month'] == \"10\"\n",
    "filtro4 = transactions_bank['transaction_name_treated'] == column\n",
    "\n",
    "\n",
    "transactions_bank[filtro1 & filtro2 & filtro3 & filtro4]"
   ]
  },
  {
   "cell_type": "code",
   "execution_count": 66,
   "metadata": {
    "ExecuteTime": {
     "end_time": "2023-07-28T13:23:33.431041Z",
     "start_time": "2023-07-28T13:23:33.414727Z"
    }
   },
   "outputs": [
    {
     "data": {
      "text/plain": [
       "-100.0"
      ]
     },
     "execution_count": 66,
     "metadata": {},
     "output_type": "execute_result"
    }
   ],
   "source": [
    "transactions_bank[filtro1 & filtro2 & filtro3 & filtro4]['transaction_amount'].sum()"
   ]
  },
  {
   "cell_type": "markdown",
   "metadata": {},
   "source": [
    "# criando a tabela desejada"
   ]
  },
  {
   "cell_type": "code",
   "execution_count": 54,
   "metadata": {
    "ExecuteTime": {
     "end_time": "2023-07-28T13:22:55.752683Z",
     "start_time": "2023-07-28T13:22:55.744459Z"
    }
   },
   "outputs": [],
   "source": [
    "columns_no_need = [\"transaction_id\", \"transaction_name_raw\", \"year\", \"month\", \"day\", \"bank_id\"]\n",
    "transactions_bank = transactions_bank.drop(columns_no_need, axis=1)"
   ]
  },
  {
   "cell_type": "code",
   "execution_count": 25,
   "metadata": {
    "ExecuteTime": {
     "end_time": "2023-07-28T13:13:35.854280Z",
     "start_time": "2023-07-28T13:13:35.823741Z"
    }
   },
   "outputs": [],
   "source": [
    "df = transactions_bank.pivot_table(\n",
    "    index=[\"user_id\", 'year_month', 'bank_name'],\n",
    "    columns=\"transaction_name_treated\",\n",
    "    values=\"transaction_amount\",\n",
    "    aggfunc=\"sum\",\n",
    ").reset_index()"
   ]
  },
  {
   "cell_type": "code",
   "execution_count": 31,
   "metadata": {
    "ExecuteTime": {
     "end_time": "2023-07-28T13:14:47.606411Z",
     "start_time": "2023-07-28T13:14:47.554416Z"
    }
   },
   "outputs": [
    {
     "data": {
      "text/html": [
       "<div>\n",
       "<style scoped>\n",
       "    .dataframe tbody tr th:only-of-type {\n",
       "        vertical-align: middle;\n",
       "    }\n",
       "\n",
       "    .dataframe tbody tr th {\n",
       "        vertical-align: top;\n",
       "    }\n",
       "\n",
       "    .dataframe thead th {\n",
       "        text-align: right;\n",
       "    }\n",
       "</style>\n",
       "<table border=\"1\" class=\"dataframe\">\n",
       "  <thead>\n",
       "    <tr style=\"text-align: right;\">\n",
       "      <th>transaction_name_treated</th>\n",
       "      <th>user_id</th>\n",
       "      <th>year_month</th>\n",
       "      <th>bank_name</th>\n",
       "      <th>AUTO POSTO</th>\n",
       "      <th>DROGARIA</th>\n",
       "      <th>FARMACIA</th>\n",
       "      <th>IFOOD</th>\n",
       "      <th>LUIZA</th>\n",
       "      <th>MERCADO</th>\n",
       "      <th>NETFLIX</th>\n",
       "      <th>POSTO</th>\n",
       "      <th>SPOTIFY</th>\n",
       "      <th>SUBWAY</th>\n",
       "      <th>UBER</th>\n",
       "    </tr>\n",
       "  </thead>\n",
       "  <tbody>\n",
       "    <tr>\n",
       "      <th>0</th>\n",
       "      <td>1005</td>\n",
       "      <td>2022-10</td>\n",
       "      <td>Nubank</td>\n",
       "      <td>-100.00</td>\n",
       "      <td>NaN</td>\n",
       "      <td>NaN</td>\n",
       "      <td>-113.16</td>\n",
       "      <td>NaN</td>\n",
       "      <td>-923.02</td>\n",
       "      <td>NaN</td>\n",
       "      <td>NaN</td>\n",
       "      <td>NaN</td>\n",
       "      <td>-113.5</td>\n",
       "      <td>NaN</td>\n",
       "    </tr>\n",
       "    <tr>\n",
       "      <th>1</th>\n",
       "      <td>1005</td>\n",
       "      <td>2022-11</td>\n",
       "      <td>Nubank</td>\n",
       "      <td>-356.60</td>\n",
       "      <td>NaN</td>\n",
       "      <td>NaN</td>\n",
       "      <td>-97.17</td>\n",
       "      <td>NaN</td>\n",
       "      <td>-33.00</td>\n",
       "      <td>NaN</td>\n",
       "      <td>-65.00</td>\n",
       "      <td>NaN</td>\n",
       "      <td>NaN</td>\n",
       "      <td>-23.33</td>\n",
       "    </tr>\n",
       "    <tr>\n",
       "      <th>2</th>\n",
       "      <td>1005</td>\n",
       "      <td>2022-12</td>\n",
       "      <td>Nubank</td>\n",
       "      <td>NaN</td>\n",
       "      <td>-29.99</td>\n",
       "      <td>NaN</td>\n",
       "      <td>NaN</td>\n",
       "      <td>NaN</td>\n",
       "      <td>-52.00</td>\n",
       "      <td>NaN</td>\n",
       "      <td>NaN</td>\n",
       "      <td>NaN</td>\n",
       "      <td>NaN</td>\n",
       "      <td>-210.00</td>\n",
       "    </tr>\n",
       "    <tr>\n",
       "      <th>3</th>\n",
       "      <td>1005</td>\n",
       "      <td>2022-6</td>\n",
       "      <td>Nubank</td>\n",
       "      <td>-13.99</td>\n",
       "      <td>-4.49</td>\n",
       "      <td>NaN</td>\n",
       "      <td>-56.00</td>\n",
       "      <td>-290.92</td>\n",
       "      <td>-276.94</td>\n",
       "      <td>NaN</td>\n",
       "      <td>-40.00</td>\n",
       "      <td>-9.9</td>\n",
       "      <td>NaN</td>\n",
       "      <td>-12.59</td>\n",
       "    </tr>\n",
       "    <tr>\n",
       "      <th>4</th>\n",
       "      <td>1005</td>\n",
       "      <td>2022-7</td>\n",
       "      <td>Nubank</td>\n",
       "      <td>NaN</td>\n",
       "      <td>NaN</td>\n",
       "      <td>NaN</td>\n",
       "      <td>NaN</td>\n",
       "      <td>NaN</td>\n",
       "      <td>-94.43</td>\n",
       "      <td>NaN</td>\n",
       "      <td>-90.00</td>\n",
       "      <td>NaN</td>\n",
       "      <td>NaN</td>\n",
       "      <td>-78.49</td>\n",
       "    </tr>\n",
       "    <tr>\n",
       "      <th>5</th>\n",
       "      <td>1005</td>\n",
       "      <td>2022-8</td>\n",
       "      <td>Nubank</td>\n",
       "      <td>NaN</td>\n",
       "      <td>-253.63</td>\n",
       "      <td>-309.80</td>\n",
       "      <td>NaN</td>\n",
       "      <td>NaN</td>\n",
       "      <td>NaN</td>\n",
       "      <td>NaN</td>\n",
       "      <td>-20.55</td>\n",
       "      <td>-24.9</td>\n",
       "      <td>NaN</td>\n",
       "      <td>NaN</td>\n",
       "    </tr>\n",
       "    <tr>\n",
       "      <th>6</th>\n",
       "      <td>1005</td>\n",
       "      <td>2022-9</td>\n",
       "      <td>Nubank</td>\n",
       "      <td>NaN</td>\n",
       "      <td>NaN</td>\n",
       "      <td>NaN</td>\n",
       "      <td>NaN</td>\n",
       "      <td>NaN</td>\n",
       "      <td>-778.32</td>\n",
       "      <td>-105.7</td>\n",
       "      <td>NaN</td>\n",
       "      <td>-19.9</td>\n",
       "      <td>NaN</td>\n",
       "      <td>NaN</td>\n",
       "    </tr>\n",
       "    <tr>\n",
       "      <th>7</th>\n",
       "      <td>1006</td>\n",
       "      <td>2022-10</td>\n",
       "      <td>Bradesco</td>\n",
       "      <td>NaN</td>\n",
       "      <td>NaN</td>\n",
       "      <td>NaN</td>\n",
       "      <td>-73.00</td>\n",
       "      <td>NaN</td>\n",
       "      <td>-1165.89</td>\n",
       "      <td>NaN</td>\n",
       "      <td>NaN</td>\n",
       "      <td>NaN</td>\n",
       "      <td>NaN</td>\n",
       "      <td>NaN</td>\n",
       "    </tr>\n",
       "    <tr>\n",
       "      <th>8</th>\n",
       "      <td>1006</td>\n",
       "      <td>2022-11</td>\n",
       "      <td>Bradesco</td>\n",
       "      <td>-631.02</td>\n",
       "      <td>NaN</td>\n",
       "      <td>NaN</td>\n",
       "      <td>-332.92</td>\n",
       "      <td>NaN</td>\n",
       "      <td>NaN</td>\n",
       "      <td>NaN</td>\n",
       "      <td>-406.34</td>\n",
       "      <td>NaN</td>\n",
       "      <td>NaN</td>\n",
       "      <td>-63.55</td>\n",
       "    </tr>\n",
       "    <tr>\n",
       "      <th>9</th>\n",
       "      <td>1006</td>\n",
       "      <td>2022-12</td>\n",
       "      <td>Bradesco</td>\n",
       "      <td>NaN</td>\n",
       "      <td>NaN</td>\n",
       "      <td>NaN</td>\n",
       "      <td>NaN</td>\n",
       "      <td>NaN</td>\n",
       "      <td>-480.02</td>\n",
       "      <td>NaN</td>\n",
       "      <td>NaN</td>\n",
       "      <td>NaN</td>\n",
       "      <td>NaN</td>\n",
       "      <td>-188.56</td>\n",
       "    </tr>\n",
       "    <tr>\n",
       "      <th>10</th>\n",
       "      <td>1006</td>\n",
       "      <td>2022-6</td>\n",
       "      <td>Bradesco</td>\n",
       "      <td>-30.00</td>\n",
       "      <td>NaN</td>\n",
       "      <td>NaN</td>\n",
       "      <td>NaN</td>\n",
       "      <td>NaN</td>\n",
       "      <td>-102.82</td>\n",
       "      <td>NaN</td>\n",
       "      <td>-23.00</td>\n",
       "      <td>NaN</td>\n",
       "      <td>NaN</td>\n",
       "      <td>-19.03</td>\n",
       "    </tr>\n",
       "    <tr>\n",
       "      <th>11</th>\n",
       "      <td>1006</td>\n",
       "      <td>2022-7</td>\n",
       "      <td>Bradesco</td>\n",
       "      <td>NaN</td>\n",
       "      <td>NaN</td>\n",
       "      <td>NaN</td>\n",
       "      <td>-6.05</td>\n",
       "      <td>NaN</td>\n",
       "      <td>-311.81</td>\n",
       "      <td>NaN</td>\n",
       "      <td>NaN</td>\n",
       "      <td>NaN</td>\n",
       "      <td>NaN</td>\n",
       "      <td>-59.55</td>\n",
       "    </tr>\n",
       "    <tr>\n",
       "      <th>12</th>\n",
       "      <td>1006</td>\n",
       "      <td>2022-8</td>\n",
       "      <td>Bradesco</td>\n",
       "      <td>NaN</td>\n",
       "      <td>-23.49</td>\n",
       "      <td>-27.85</td>\n",
       "      <td>NaN</td>\n",
       "      <td>-18.00</td>\n",
       "      <td>-12.00</td>\n",
       "      <td>NaN</td>\n",
       "      <td>NaN</td>\n",
       "      <td>-34.9</td>\n",
       "      <td>NaN</td>\n",
       "      <td>-13.99</td>\n",
       "    </tr>\n",
       "    <tr>\n",
       "      <th>13</th>\n",
       "      <td>1006</td>\n",
       "      <td>2022-9</td>\n",
       "      <td>Bradesco</td>\n",
       "      <td>NaN</td>\n",
       "      <td>NaN</td>\n",
       "      <td>NaN</td>\n",
       "      <td>NaN</td>\n",
       "      <td>NaN</td>\n",
       "      <td>-856.21</td>\n",
       "      <td>-55.9</td>\n",
       "      <td>NaN</td>\n",
       "      <td>-9.9</td>\n",
       "      <td>NaN</td>\n",
       "      <td>-19.93</td>\n",
       "    </tr>\n",
       "  </tbody>\n",
       "</table>\n",
       "</div>"
      ],
      "text/plain": [
       "transaction_name_treated user_id year_month bank_name  AUTO POSTO  DROGARIA  \\\n",
       "0                           1005    2022-10    Nubank     -100.00       NaN   \n",
       "1                           1005    2022-11    Nubank     -356.60       NaN   \n",
       "2                           1005    2022-12    Nubank         NaN    -29.99   \n",
       "3                           1005     2022-6    Nubank      -13.99     -4.49   \n",
       "4                           1005     2022-7    Nubank         NaN       NaN   \n",
       "5                           1005     2022-8    Nubank         NaN   -253.63   \n",
       "6                           1005     2022-9    Nubank         NaN       NaN   \n",
       "7                           1006    2022-10  Bradesco         NaN       NaN   \n",
       "8                           1006    2022-11  Bradesco     -631.02       NaN   \n",
       "9                           1006    2022-12  Bradesco         NaN       NaN   \n",
       "10                          1006     2022-6  Bradesco      -30.00       NaN   \n",
       "11                          1006     2022-7  Bradesco         NaN       NaN   \n",
       "12                          1006     2022-8  Bradesco         NaN    -23.49   \n",
       "13                          1006     2022-9  Bradesco         NaN       NaN   \n",
       "\n",
       "transaction_name_treated  FARMACIA   IFOOD   LUIZA  MERCADO  NETFLIX   POSTO  \\\n",
       "0                              NaN -113.16     NaN  -923.02      NaN     NaN   \n",
       "1                              NaN  -97.17     NaN   -33.00      NaN  -65.00   \n",
       "2                              NaN     NaN     NaN   -52.00      NaN     NaN   \n",
       "3                              NaN  -56.00 -290.92  -276.94      NaN  -40.00   \n",
       "4                              NaN     NaN     NaN   -94.43      NaN  -90.00   \n",
       "5                          -309.80     NaN     NaN      NaN      NaN  -20.55   \n",
       "6                              NaN     NaN     NaN  -778.32   -105.7     NaN   \n",
       "7                              NaN  -73.00     NaN -1165.89      NaN     NaN   \n",
       "8                              NaN -332.92     NaN      NaN      NaN -406.34   \n",
       "9                              NaN     NaN     NaN  -480.02      NaN     NaN   \n",
       "10                             NaN     NaN     NaN  -102.82      NaN  -23.00   \n",
       "11                             NaN   -6.05     NaN  -311.81      NaN     NaN   \n",
       "12                          -27.85     NaN  -18.00   -12.00      NaN     NaN   \n",
       "13                             NaN     NaN     NaN  -856.21    -55.9     NaN   \n",
       "\n",
       "transaction_name_treated  SPOTIFY  SUBWAY    UBER  \n",
       "0                             NaN  -113.5     NaN  \n",
       "1                             NaN     NaN  -23.33  \n",
       "2                             NaN     NaN -210.00  \n",
       "3                            -9.9     NaN  -12.59  \n",
       "4                             NaN     NaN  -78.49  \n",
       "5                           -24.9     NaN     NaN  \n",
       "6                           -19.9     NaN     NaN  \n",
       "7                             NaN     NaN     NaN  \n",
       "8                             NaN     NaN  -63.55  \n",
       "9                             NaN     NaN -188.56  \n",
       "10                            NaN     NaN  -19.03  \n",
       "11                            NaN     NaN  -59.55  \n",
       "12                          -34.9     NaN  -13.99  \n",
       "13                           -9.9     NaN  -19.93  "
      ]
     },
     "execution_count": 31,
     "metadata": {},
     "output_type": "execute_result"
    }
   ],
   "source": [
    "df"
   ]
  }
 ],
 "metadata": {
  "colab": {
   "provenance": []
  },
  "kernelspec": {
   "display_name": "HIcsell",
   "language": "python",
   "name": "hicsell"
  },
  "language_info": {
   "codemirror_mode": {
    "name": "ipython",
    "version": 3
   },
   "file_extension": ".py",
   "mimetype": "text/x-python",
   "name": "python",
   "nbconvert_exporter": "python",
   "pygments_lexer": "ipython3",
   "version": "3.10.9"
  }
 },
 "nbformat": 4,
 "nbformat_minor": 1
}
